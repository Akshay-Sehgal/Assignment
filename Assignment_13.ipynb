{
 "cells": [
  {
   "cell_type": "code",
   "execution_count": 61,
   "metadata": {},
   "outputs": [],
   "source": [
    "#importing libraries\n",
    "import pandas as pd\n",
    "import numpy as np\n",
    "import seaborn as sb\n",
    "import matplotlib.pyplot as plt\n",
    "%matplotlib inline"
   ]
  },
  {
   "cell_type": "code",
   "execution_count": 62,
   "metadata": {},
   "outputs": [],
   "source": [
    "from sklearn.datasets import load_digits\n",
    "mnist= load_digits()"
   ]
  },
  {
   "cell_type": "code",
   "execution_count": 63,
   "metadata": {},
   "outputs": [
    {
     "name": "stdout",
     "output_type": "stream",
     "text": [
      "(1797, 64)\n",
      "(1797,)\n"
     ]
    }
   ],
   "source": [
    "print(mnist.data.shape)\n",
    "print(mnist.target.shape)"
   ]
  },
  {
   "cell_type": "code",
   "execution_count": 64,
   "metadata": {},
   "outputs": [
    {
     "data": {
      "image/png": "[encoded data removed]",
      "text/plain": [
       "<Figure size 1440x720 with 10 Axes>"
      ]
     },
     "metadata": {},
     "output_type": "display_data"
    }
   ],
   "source": [
    "plt.figure(figsize = (20, 10))\n",
    "for index, (image, label) in enumerate(zip(mnist.data[0:10], mnist.target[0:10])):\n",
    "    plt.subplot(1, 10, index+1)\n",
    "    plt.imshow(np.reshape(image, (8, 8)), cmap = plt.cm.gray)"
   ]
  },
  {
   "cell_type": "code",
   "execution_count": 65,
   "metadata": {},
   "outputs": [
    {
     "name": "stderr",
     "output_type": "stream",
     "text": [
      "c:\\users\\hp-i5-amd\\appdata\\local\\programs\\python\\python36-32\\lib\\site-packages\\sklearn\\model_selection\\_split.py:2026: FutureWarning: From version 0.21, test_size will always complement train_size unless both are specified.\n",
      "  FutureWarning)\n"
     ]
    }
   ],
   "source": [
    "from sklearn.model_selection import train_test_split\n",
    "train_x, test_x, train_y, test_y = train_test_split(mnist.data, mnist.target, train_size = 0.8)"
   ]
  },
  {
   "cell_type": "code",
   "execution_count": 67,
   "metadata": {},
   "outputs": [],
   "source": [
    "from sklearn.svm import SVC\n",
    "from sklearn.metrics import r2_score,confusion_matrix,classification_report\n"
   ]
  },
  {
   "cell_type": "markdown",
   "metadata": {},
   "source": [
    "## Linear"
   ]
  },
  {
   "cell_type": "code",
   "execution_count": 68,
   "metadata": {
    "scrolled": true
   },
   "outputs": [
    {
     "data": {
      "text/plain": [
       "SVC(C=1.0, cache_size=200, class_weight=None, coef0=0.0,\n",
       "  decision_function_shape='ovr', degree=8, gamma='auto', kernel='linear',\n",
       "  max_iter=-1, probability=False, random_state=None, shrinking=True,\n",
       "  tol=0.001, verbose=False)"
      ]
     },
     "execution_count": 68,
     "metadata": {},
     "output_type": "execute_result"
    }
   ],
   "source": [
    "model_Linear = SVC(kernel = 'linear', degree = 8)\n",
    "model_Linear.fit(train_x, train_y)"
   ]
  },
  {
   "cell_type": "code",
   "execution_count": 69,
   "metadata": {},
   "outputs": [
    {
     "name": "stdout",
     "output_type": "stream",
     "text": [
      "     Prediction  Actual\n",
      "0             7       7\n",
      "1             0       0\n",
      "2             7       7\n",
      "3             8       8\n",
      "4             0       0\n",
      "5             7       7\n",
      "6             6       6\n",
      "7             4       4\n",
      "8             5       5\n",
      "9             9       9\n",
      "10            9       9\n",
      "11            7       7\n",
      "12            0       0\n",
      "13            3       3\n",
      "14            0       0\n",
      "15            3       3\n",
      "16            5       5\n",
      "17            3       3\n",
      "18            1       1\n",
      "19            9       8\n",
      "20            9       9\n",
      "21            2       2\n",
      "22            8       8\n",
      "23            1       1\n",
      "24            1       1\n",
      "25            4       4\n",
      "26            1       1\n",
      "27            6       6\n",
      "28            9       9\n",
      "29            0       0\n",
      "..          ...     ...\n",
      "330           3       3\n",
      "331           1       1\n",
      "332           1       1\n",
      "333           5       5\n",
      "334           7       7\n",
      "335           3       3\n",
      "336           7       7\n",
      "337           6       6\n",
      "338           6       6\n",
      "339           8       8\n",
      "340           4       4\n",
      "341           1       1\n",
      "342           6       6\n",
      "343           0       0\n",
      "344           0       0\n",
      "345           1       1\n",
      "346           2       2\n",
      "347           0       0\n",
      "348           5       5\n",
      "349           3       3\n",
      "350           4       4\n",
      "351           0       0\n",
      "352           2       2\n",
      "353           6       6\n",
      "354           1       1\n",
      "355           3       3\n",
      "356           1       6\n",
      "357           2       2\n",
      "358           3       3\n",
      "359           9       9\n",
      "\n",
      "[360 rows x 2 columns]\n"
     ]
    }
   ],
   "source": [
    "prediction_Linear=model_Linear.predict(test_x)\n",
    "\n",
    "results_Linear=pd.DataFrame({'Prediction':prediction_Linear,'Actual':test_y})\n",
    "print(results_Linear)"
   ]
  },
  {
   "cell_type": "code",
   "execution_count": 70,
   "metadata": {},
   "outputs": [
    {
     "name": "stdout",
     "output_type": "stream",
     "text": [
      "[[33  0  0  0  0  0  0  0  0  0]\n",
      " [ 0 43  0  0  0  0  0  0  0  0]\n",
      " [ 0  0 30  0  0  0  0  0  0  0]\n",
      " [ 0  0  0 31  0  1  0  0  0  0]\n",
      " [ 0  0  0  0 34  0  0  0  0  0]\n",
      " [ 0  0  0  0  0 39  0  0  0  0]\n",
      " [ 0  1  0  0  0  0 38  0  0  0]\n",
      " [ 0  0  0  0  1  0  0 32  0  0]\n",
      " [ 0  2  0  0  0  0  0  0 39  1]\n",
      " [ 0  0  0  0  0  0  0  0  0 35]]\n"
     ]
    }
   ],
   "source": [
    "print(confusion_matrix(test_y,prediction_Linear))"
   ]
  },
  {
   "cell_type": "code",
   "execution_count": 71,
   "metadata": {
    "scrolled": true
   },
   "outputs": [
    {
     "name": "stdout",
     "output_type": "stream",
     "text": [
      "0.9541518084564442\n"
     ]
    }
   ],
   "source": [
    "print(r2_score(test_y, prediction_Linear))"
   ]
  },
  {
   "cell_type": "code",
   "execution_count": 73,
   "metadata": {},
   "outputs": [
    {
     "name": "stdout",
     "output_type": "stream",
     "text": [
      "             precision    recall  f1-score   support\n",
      "\n",
      "          0       1.00      1.00      1.00        33\n",
      "          1       0.93      1.00      0.97        43\n",
      "          2       1.00      1.00      1.00        30\n",
      "          3       1.00      0.97      0.98        32\n",
      "          4       0.97      1.00      0.99        34\n",
      "          5       0.97      1.00      0.99        39\n",
      "          6       1.00      0.97      0.99        39\n",
      "          7       1.00      0.97      0.98        33\n",
      "          8       1.00      0.93      0.96        42\n",
      "          9       0.97      1.00      0.99        35\n",
      "\n",
      "avg / total       0.98      0.98      0.98       360\n",
      "\n"
     ]
    }
   ],
   "source": [
    "print(classification_report(test_y, prediction_Linear))"
   ]
  },
  {
   "cell_type": "markdown",
   "metadata": {},
   "source": [
    "## Poly"
   ]
  },
  {
   "cell_type": "code",
   "execution_count": 74,
   "metadata": {
    "scrolled": true
   },
   "outputs": [
    {
     "data": {
      "text/plain": [
       "SVC(C=1.0, cache_size=200, class_weight=None, coef0=0.0,\n",
       "  decision_function_shape='ovr', degree=8, gamma='auto', kernel='poly',\n",
       "  max_iter=-1, probability=False, random_state=None, shrinking=True,\n",
       "  tol=0.001, verbose=False)"
      ]
     },
     "execution_count": 74,
     "metadata": {},
     "output_type": "execute_result"
    }
   ],
   "source": [
    "model_Poly = SVC(kernel = 'poly', degree = 8)\n",
    "model_Poly.fit(train_x, train_y)"
   ]
  },
  {
   "cell_type": "code",
   "execution_count": 75,
   "metadata": {},
   "outputs": [
    {
     "name": "stdout",
     "output_type": "stream",
     "text": [
      "     Prediction  Actual\n",
      "0             7       7\n",
      "1             0       0\n",
      "2             7       7\n",
      "3             8       8\n",
      "4             0       0\n",
      "5             7       7\n",
      "6             6       6\n",
      "7             4       4\n",
      "8             5       5\n",
      "9             9       9\n",
      "10            9       9\n",
      "11            7       7\n",
      "12            0       0\n",
      "13            3       3\n",
      "14            0       0\n",
      "15            3       3\n",
      "16            5       5\n",
      "17            3       3\n",
      "18            1       1\n",
      "19            8       8\n",
      "20            9       9\n",
      "21            2       2\n",
      "22            8       8\n",
      "23            1       1\n",
      "24            9       1\n",
      "25            4       4\n",
      "26            1       1\n",
      "27            6       6\n",
      "28            9       9\n",
      "29            0       0\n",
      "..          ...     ...\n",
      "330           3       3\n",
      "331           1       1\n",
      "332           1       1\n",
      "333           5       5\n",
      "334           7       7\n",
      "335           3       3\n",
      "336           7       7\n",
      "337           6       6\n",
      "338           6       6\n",
      "339           8       8\n",
      "340           4       4\n",
      "341           1       1\n",
      "342           6       6\n",
      "343           0       0\n",
      "344           0       0\n",
      "345           1       1\n",
      "346           2       2\n",
      "347           0       0\n",
      "348           5       5\n",
      "349           3       3\n",
      "350           4       4\n",
      "351           0       0\n",
      "352           2       2\n",
      "353           6       6\n",
      "354           1       1\n",
      "355           3       3\n",
      "356           6       6\n",
      "357           2       2\n",
      "358           3       3\n",
      "359           9       9\n",
      "\n",
      "[360 rows x 2 columns]\n"
     ]
    }
   ],
   "source": [
    "prediction_Poly=model_Poly.predict(test_x)\n",
    "\n",
    "results_Poly=pd.DataFrame({'Prediction':prediction_Poly,'Actual':test_y})\n",
    "print(results_Poly)"
   ]
  },
  {
   "cell_type": "code",
   "execution_count": 76,
   "metadata": {},
   "outputs": [
    {
     "name": "stdout",
     "output_type": "stream",
     "text": [
      "[[33  0  0  0  0  0  0  0  0  0]\n",
      " [ 1 40  0  0  0  0  0  0  1  1]\n",
      " [ 0  0 30  0  0  0  0  0  0  0]\n",
      " [ 0  0  0 31  0  1  0  0  0  0]\n",
      " [ 0  0  0  0 34  0  0  0  0  0]\n",
      " [ 0  0  0  0  0 39  0  0  0  0]\n",
      " [ 0  0  0  0  0  0 39  0  0  0]\n",
      " [ 0  0  0  0  0  0  0 33  0  0]\n",
      " [ 0  0  0  0  0  0  0  0 42  0]\n",
      " [ 0  0  0  0  0  0  0  0  1 34]]\n"
     ]
    }
   ],
   "source": [
    "print(confusion_matrix(test_y,prediction_Poly))"
   ]
  },
  {
   "cell_type": "code",
   "execution_count": 77,
   "metadata": {},
   "outputs": [
    {
     "name": "stdout",
     "output_type": "stream",
     "text": [
      "0.9601756584402691\n"
     ]
    }
   ],
   "source": [
    "print(r2_score(test_y, prediction_Poly))"
   ]
  },
  {
   "cell_type": "code",
   "execution_count": 78,
   "metadata": {},
   "outputs": [
    {
     "name": "stdout",
     "output_type": "stream",
     "text": [
      "             precision    recall  f1-score   support\n",
      "\n",
      "          0       0.97      1.00      0.99        33\n",
      "          1       1.00      0.93      0.96        43\n",
      "          2       1.00      1.00      1.00        30\n",
      "          3       1.00      0.97      0.98        32\n",
      "          4       1.00      1.00      1.00        34\n",
      "          5       0.97      1.00      0.99        39\n",
      "          6       1.00      1.00      1.00        39\n",
      "          7       1.00      1.00      1.00        33\n",
      "          8       0.95      1.00      0.98        42\n",
      "          9       0.97      0.97      0.97        35\n",
      "\n",
      "avg / total       0.99      0.99      0.99       360\n",
      "\n"
     ]
    }
   ],
   "source": [
    "print(classification_report(test_y, prediction_Poly))"
   ]
  },
  {
   "cell_type": "markdown",
   "metadata": {},
   "source": [
    "## Gaussian"
   ]
  },
  {
   "cell_type": "code",
   "execution_count": 79,
   "metadata": {},
   "outputs": [
    {
     "data": {
      "text/plain": [
       "SVC(C=1.0, cache_size=200, class_weight=None, coef0=0.0,\n",
       "  decision_function_shape='ovr', degree=8, gamma='auto', kernel='rbf',\n",
       "  max_iter=-1, probability=False, random_state=None, shrinking=True,\n",
       "  tol=0.001, verbose=False)"
      ]
     },
     "execution_count": 79,
     "metadata": {},
     "output_type": "execute_result"
    }
   ],
   "source": [
    "model_Gaussian = SVC(kernel = 'rbf', degree = 8)\n",
    "model_Gaussian.fit(train_x, train_y)"
   ]
  },
  {
   "cell_type": "code",
   "execution_count": 80,
   "metadata": {},
   "outputs": [
    {
     "name": "stdout",
     "output_type": "stream",
     "text": [
      "     Prediction  Actual\n",
      "0             3       7\n",
      "1             0       0\n",
      "2             3       7\n",
      "3             3       8\n",
      "4             3       0\n",
      "5             3       7\n",
      "6             6       6\n",
      "7             4       4\n",
      "8             5       5\n",
      "9             9       9\n",
      "10            9       9\n",
      "11            3       7\n",
      "12            0       0\n",
      "13            3       3\n",
      "14            0       0\n",
      "15            3       3\n",
      "16            3       5\n",
      "17            3       3\n",
      "18            3       1\n",
      "19            3       8\n",
      "20            9       9\n",
      "21            2       2\n",
      "22            3       8\n",
      "23            3       1\n",
      "24            3       1\n",
      "25            3       4\n",
      "26            3       1\n",
      "27            6       6\n",
      "28            3       9\n",
      "29            0       0\n",
      "..          ...     ...\n",
      "330           3       3\n",
      "331           3       1\n",
      "332           3       1\n",
      "333           5       5\n",
      "334           7       7\n",
      "335           3       3\n",
      "336           3       7\n",
      "337           6       6\n",
      "338           6       6\n",
      "339           3       8\n",
      "340           3       4\n",
      "341           3       1\n",
      "342           6       6\n",
      "343           0       0\n",
      "344           0       0\n",
      "345           3       1\n",
      "346           2       2\n",
      "347           3       0\n",
      "348           5       5\n",
      "349           3       3\n",
      "350           4       4\n",
      "351           3       0\n",
      "352           3       2\n",
      "353           6       6\n",
      "354           3       1\n",
      "355           3       3\n",
      "356           3       6\n",
      "357           2       2\n",
      "358           3       3\n",
      "359           3       9\n",
      "\n",
      "[360 rows x 2 columns]\n"
     ]
    }
   ],
   "source": [
    "prediction_Gaussian=model_Gaussian.predict(test_x)\n",
    "\n",
    "results_Gaussian=pd.DataFrame({'Prediction':prediction_Gaussian,'Actual':test_y})\n",
    "print(results_Gaussian)"
   ]
  },
  {
   "cell_type": "code",
   "execution_count": 81,
   "metadata": {},
   "outputs": [
    {
     "name": "stdout",
     "output_type": "stream",
     "text": [
      "[[18  0  0 15  0  0  0  0  0  0]\n",
      " [ 0 11  0 32  0  0  0  0  0  0]\n",
      " [ 0  0 16 14  0  0  0  0  0  0]\n",
      " [ 0  0  0 32  0  0  0  0  0  0]\n",
      " [ 0  0  0 15 19  0  0  0  0  0]\n",
      " [ 0  0  0 24  0 15  0  0  0  0]\n",
      " [ 0  0  0 14  0  0 25  0  0  0]\n",
      " [ 0  0  0 21  0  0  0 12  0  0]\n",
      " [ 0  0  0 41  0  0  0  0  1  0]\n",
      " [ 0  0  0 19  0  0  0  0  0 16]]\n"
     ]
    }
   ],
   "source": [
    "print(confusion_matrix(test_y,prediction_Gaussian))"
   ]
  },
  {
   "cell_type": "code",
   "execution_count": 82,
   "metadata": {},
   "outputs": [
    {
     "name": "stdout",
     "output_type": "stream",
     "text": [
      "0.14360932729956755\n"
     ]
    }
   ],
   "source": [
    "print(r2_score(test_y, prediction_Gaussian))"
   ]
  },
  {
   "cell_type": "code",
   "execution_count": 83,
   "metadata": {},
   "outputs": [
    {
     "name": "stdout",
     "output_type": "stream",
     "text": [
      "             precision    recall  f1-score   support\n",
      "\n",
      "          0       1.00      0.55      0.71        33\n",
      "          1       1.00      0.26      0.41        43\n",
      "          2       1.00      0.53      0.70        30\n",
      "          3       0.14      1.00      0.25        32\n",
      "          4       1.00      0.56      0.72        34\n",
      "          5       1.00      0.38      0.56        39\n",
      "          6       1.00      0.64      0.78        39\n",
      "          7       1.00      0.36      0.53        33\n",
      "          8       1.00      0.02      0.05        42\n",
      "          9       1.00      0.46      0.63        35\n",
      "\n",
      "avg / total       0.92      0.46      0.52       360\n",
      "\n"
     ]
    }
   ],
   "source": [
    "print(classification_report(test_y, prediction_Gaussian))"
   ]
  },
  {
   "cell_type": "markdown",
   "metadata": {},
   "source": [
    "## Sigmoid"
   ]
  },
  {
   "cell_type": "code",
   "execution_count": 84,
   "metadata": {
    "scrolled": true
   },
   "outputs": [
    {
     "data": {
      "text/plain": [
       "SVC(C=1.0, cache_size=200, class_weight=None, coef0=0.0,\n",
       "  decision_function_shape='ovr', degree=8, gamma='auto', kernel='sigmoid',\n",
       "  max_iter=-1, probability=False, random_state=None, shrinking=True,\n",
       "  tol=0.001, verbose=False)"
      ]
     },
     "execution_count": 84,
     "metadata": {},
     "output_type": "execute_result"
    }
   ],
   "source": [
    "model_Sigmoid = SVC(kernel = 'sigmoid', degree = 8)\n",
    "model_Sigmoid.fit(train_x,train_y)"
   ]
  },
  {
   "cell_type": "code",
   "execution_count": 85,
   "metadata": {},
   "outputs": [
    {
     "name": "stdout",
     "output_type": "stream",
     "text": [
      "     Prediction  Actual\n",
      "0             3       7\n",
      "1             3       0\n",
      "2             3       7\n",
      "3             3       8\n",
      "4             3       0\n",
      "5             3       7\n",
      "6             3       6\n",
      "7             3       4\n",
      "8             3       5\n",
      "9             3       9\n",
      "10            3       9\n",
      "11            3       7\n",
      "12            3       0\n",
      "13            3       3\n",
      "14            3       0\n",
      "15            3       3\n",
      "16            3       5\n",
      "17            3       3\n",
      "18            3       1\n",
      "19            3       8\n",
      "20            3       9\n",
      "21            3       2\n",
      "22            3       8\n",
      "23            3       1\n",
      "24            3       1\n",
      "25            3       4\n",
      "26            3       1\n",
      "27            3       6\n",
      "28            3       9\n",
      "29            3       0\n",
      "..          ...     ...\n",
      "330           3       3\n",
      "331           3       1\n",
      "332           3       1\n",
      "333           3       5\n",
      "334           3       7\n",
      "335           3       3\n",
      "336           3       7\n",
      "337           3       6\n",
      "338           3       6\n",
      "339           3       8\n",
      "340           3       4\n",
      "341           3       1\n",
      "342           3       6\n",
      "343           3       0\n",
      "344           3       0\n",
      "345           3       1\n",
      "346           3       2\n",
      "347           3       0\n",
      "348           3       5\n",
      "349           3       3\n",
      "350           3       4\n",
      "351           3       0\n",
      "352           3       2\n",
      "353           3       6\n",
      "354           3       1\n",
      "355           3       3\n",
      "356           3       6\n",
      "357           3       2\n",
      "358           3       3\n",
      "359           3       9\n",
      "\n",
      "[360 rows x 2 columns]\n"
     ]
    }
   ],
   "source": [
    "prediction_Sigmoid=model_Sigmoid.predict(test_x)\n",
    "\n",
    "results_Sigmoid=pd.DataFrame({'Prediction':prediction_Sigmoid,'Actual':test_y})\n",
    "print(results_Sigmoid)"
   ]
  },
  {
   "cell_type": "code",
   "execution_count": 86,
   "metadata": {},
   "outputs": [
    {
     "name": "stdout",
     "output_type": "stream",
     "text": [
      "[[ 0  0  0 33  0  0  0  0  0  0]\n",
      " [ 0  0  0 43  0  0  0  0  0  0]\n",
      " [ 0  0  0 30  0  0  0  0  0  0]\n",
      " [ 0  0  0 32  0  0  0  0  0  0]\n",
      " [ 0  0  0 34  0  0  0  0  0  0]\n",
      " [ 0  0  0 39  0  0  0  0  0  0]\n",
      " [ 0  0  0 39  0  0  0  0  0  0]\n",
      " [ 0  0  0 33  0  0  0  0  0  0]\n",
      " [ 0  0  0 42  0  0  0  0  0  0]\n",
      " [ 0  0  0 35  0  0  0  0  0  0]]\n"
     ]
    }
   ],
   "source": [
    "print(confusion_matrix(test_y,prediction_Sigmoid))"
   ]
  },
  {
   "cell_type": "code",
   "execution_count": 87,
   "metadata": {
    "scrolled": true
   },
   "outputs": [
    {
     "name": "stdout",
     "output_type": "stream",
     "text": [
      "-0.29780501318181996\n"
     ]
    }
   ],
   "source": [
    "print(r2_score(test_y, prediction_Sigmoid))"
   ]
  },
  {
   "cell_type": "code",
   "execution_count": 88,
   "metadata": {},
   "outputs": [
    {
     "name": "stdout",
     "output_type": "stream",
     "text": [
      "             precision    recall  f1-score   support\n",
      "\n",
      "          0       0.00      0.00      0.00        33\n",
      "          1       0.00      0.00      0.00        43\n",
      "          2       0.00      0.00      0.00        30\n",
      "          3       0.09      1.00      0.16        32\n",
      "          4       0.00      0.00      0.00        34\n",
      "          5       0.00      0.00      0.00        39\n",
      "          6       0.00      0.00      0.00        39\n",
      "          7       0.00      0.00      0.00        33\n",
      "          8       0.00      0.00      0.00        42\n",
      "          9       0.00      0.00      0.00        35\n",
      "\n",
      "avg / total       0.01      0.09      0.01       360\n",
      "\n"
     ]
    },
    {
     "name": "stderr",
     "output_type": "stream",
     "text": [
      "c:\\users\\hp-i5-amd\\appdata\\local\\programs\\python\\python36-32\\lib\\site-packages\\sklearn\\metrics\\classification.py:1135: UndefinedMetricWarning: Precision and F-score are ill-defined and being set to 0.0 in labels with no predicted samples.\n",
      "  'precision', 'predicted', average, warn_for)\n"
     ]
    }
   ],
   "source": [
    "print(classification_report(test_y, prediction_Sigmoid))"
   ]
  }
 ],
 "metadata": {
  "kernelspec": {
   "display_name": "Python 3",
   "language": "python",
   "name": "python3"
  },
  "language_info": {
   "codemirror_mode": {
    "name": "ipython",
    "version": 3
   },
   "file_extension": ".py",
   "mimetype": "text/x-python",
   "name": "python",
   "nbconvert_exporter": "python",
   "pygments_lexer": "ipython3",
   "version": "3.6.5"
  }
 },
 "nbformat": 4,
 "nbformat_minor": 2
}
