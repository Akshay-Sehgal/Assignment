{
 "cells": [
  {
   "cell_type": "code",
   "execution_count": 2,
   "metadata": {},
   "outputs": [],
   "source": [
    "#importing libraries\n",
    "import pandas as pd\n",
    "import numpy as np\n",
    "import seaborn as sb\n",
    "import matplotlib.pyplot as plt\n",
    "%matplotlib inline"
   ]
  },
  {
   "cell_type": "code",
   "execution_count": 3,
   "metadata": {},
   "outputs": [],
   "source": [
    "from sklearn.datasets import load_digits\n",
    "mnist= load_digits()"
   ]
  },
  {
   "cell_type": "code",
   "execution_count": 5,
   "metadata": {},
   "outputs": [
    {
     "name": "stdout",
     "output_type": "stream",
     "text": [
      "(1797, 64)\n",
      "(1797,)\n"
     ]
    }
   ],
   "source": [
    "print(mnist.data.shape)\n",
    "print(mnist.target.shape)"
   ]
  },
  {
   "cell_type": "code",
   "execution_count": 7,
   "metadata": {},
   "outputs": [
    {
     "data": {
      "image/png": "[encoded data removed]",
      "text/plain": [
       "<Figure size 1440x720 with 10 Axes>"
      ]
     },
     "metadata": {},
     "output_type": "display_data"
    }
   ],
   "source": [
    "plt.figure(figsize = (20, 10))\n",
    "for index, (image, label) in enumerate(zip(mnist.data[0:10], mnist.target[0:10])):\n",
    "    plt.subplot(1, 10, index+1)\n",
    "    plt.imshow(np.reshape(image, (8, 8)), cmap = plt.cm.gray)"
   ]
  },
  {
   "cell_type": "code",
   "execution_count": 9,
   "metadata": {},
   "outputs": [
    {
     "name": "stderr",
     "output_type": "stream",
     "text": [
      "c:\\users\\hp-i5-amd\\appdata\\local\\programs\\python\\python36-32\\lib\\site-packages\\sklearn\\model_selection\\_split.py:2026: FutureWarning: From version 0.21, test_size will always complement train_size unless both are specified.\n",
      "  FutureWarning)\n"
     ]
    }
   ],
   "source": [
    "from sklearn.model_selection import train_test_split\n",
    "train_x, test_x, train_y, test_y = train_test_split(mnist.data, mnist.target, train_size = 0.8)"
   ]
  },
  {
   "cell_type": "code",
   "execution_count": 24,
   "metadata": {},
   "outputs": [],
   "source": [
    "from sklearn.svm import SVC\n",
    "from sklearn.metrics import r2_score,confusion_matrix\n"
   ]
  },
  {
   "cell_type": "markdown",
   "metadata": {},
   "source": [
    "## Linear"
   ]
  },
  {
   "cell_type": "code",
   "execution_count": 39,
   "metadata": {
    "scrolled": true
   },
   "outputs": [
    {
     "data": {
      "text/plain": [
       "SVC(C=1.0, cache_size=200, class_weight=None, coef0=0.0,\n",
       "  decision_function_shape='ovr', degree=8, gamma='auto', kernel='linear',\n",
       "  max_iter=-1, probability=False, random_state=None, shrinking=True,\n",
       "  tol=0.001, verbose=False)"
      ]
     },
     "execution_count": 39,
     "metadata": {},
     "output_type": "execute_result"
    }
   ],
   "source": [
    "model_Linear = SVC(kernel = 'linear', degree = 8)\n",
    "model_Linear.fit(train_x, train_y)"
   ]
  },
  {
   "cell_type": "code",
   "execution_count": 40,
   "metadata": {},
   "outputs": [
    {
     "name": "stdout",
     "output_type": "stream",
     "text": [
      "     Prediction  Actual\n",
      "0             0       0\n",
      "1             5       5\n",
      "2             0       0\n",
      "3             5       5\n",
      "4             3       3\n",
      "5             0       0\n",
      "6             8       8\n",
      "7             7       7\n",
      "8             3       3\n",
      "9             8       8\n",
      "10            7       7\n",
      "11            3       3\n",
      "12            3       3\n",
      "13            8       8\n",
      "14            0       0\n",
      "15            3       3\n",
      "16            8       8\n",
      "17            1       1\n",
      "18            7       7\n",
      "19            6       6\n",
      "20            7       7\n",
      "21            6       6\n",
      "22            4       4\n",
      "23            8       8\n",
      "24            3       3\n",
      "25            8       8\n",
      "26            9       9\n",
      "27            5       5\n",
      "28            2       2\n",
      "29            5       5\n",
      "..          ...     ...\n",
      "330           7       7\n",
      "331           3       3\n",
      "332           1       1\n",
      "333           8       8\n",
      "334           9       9\n",
      "335           4       4\n",
      "336           2       2\n",
      "337           1       1\n",
      "338           4       4\n",
      "339           9       9\n",
      "340           5       5\n",
      "341           0       0\n",
      "342           1       6\n",
      "343           7       7\n",
      "344           1       1\n",
      "345           6       6\n",
      "346           6       6\n",
      "347           3       3\n",
      "348           1       1\n",
      "349           1       1\n",
      "350           3       3\n",
      "351           5       5\n",
      "352           9       9\n",
      "353           6       6\n",
      "354           4       4\n",
      "355           2       2\n",
      "356           2       2\n",
      "357           8       8\n",
      "358           9       9\n",
      "359           4       4\n",
      "\n",
      "[360 rows x 2 columns]\n"
     ]
    }
   ],
   "source": [
    "prediction_Linear=model_Linear.predict(test_x)\n",
    "\n",
    "results_Linear=pd.DataFrame({'Prediction':prediction_Linear,'Actual':test_y})\n",
    "print(results_Linear)"
   ]
  },
  {
   "cell_type": "code",
   "execution_count": 41,
   "metadata": {},
   "outputs": [
    {
     "name": "stdout",
     "output_type": "stream",
     "text": [
      "[[39  0  0  0  0  0  0  0  0  0]\n",
      " [ 0 36  0  0  0  0  0  0  1  0]\n",
      " [ 0  0 31  0  0  0  0  0  0  0]\n",
      " [ 0  0  0 29  0  0  0  0  0  0]\n",
      " [ 0  0  0  0 40  0  0  0  0  0]\n",
      " [ 0  0  0  0  0 45  0  0  0  0]\n",
      " [ 0  1  0  0  0  0 31  0  0  0]\n",
      " [ 0  0  0  0  0  1  0 37  0  0]\n",
      " [ 0  1  1  1  0  0  0  0 34  0]\n",
      " [ 0  0  0  0  0  0  0  0  1 31]]\n"
     ]
    }
   ],
   "source": [
    "print(confusion_matrix(test_y,prediction_Linear))"
   ]
  },
  {
   "cell_type": "code",
   "execution_count": 42,
   "metadata": {},
   "outputs": [
    {
     "name": "stdout",
     "output_type": "stream",
     "text": [
      "0.9355798335717688\n"
     ]
    }
   ],
   "source": [
    "print(r2_score(test_y, prediction_Linear))"
   ]
  },
  {
   "cell_type": "markdown",
   "metadata": {},
   "source": [
    "## Poly"
   ]
  },
  {
   "cell_type": "code",
   "execution_count": 43,
   "metadata": {
    "scrolled": true
   },
   "outputs": [
    {
     "data": {
      "text/plain": [
       "SVC(C=1.0, cache_size=200, class_weight=None, coef0=0.0,\n",
       "  decision_function_shape='ovr', degree=8, gamma='auto', kernel='poly',\n",
       "  max_iter=-1, probability=False, random_state=None, shrinking=True,\n",
       "  tol=0.001, verbose=False)"
      ]
     },
     "execution_count": 43,
     "metadata": {},
     "output_type": "execute_result"
    }
   ],
   "source": [
    "model_Poly = SVC(kernel = 'poly', degree = 8)\n",
    "model_Poly.fit(train_x, train_y)"
   ]
  },
  {
   "cell_type": "code",
   "execution_count": 44,
   "metadata": {},
   "outputs": [
    {
     "name": "stdout",
     "output_type": "stream",
     "text": [
      "     Prediction  Actual\n",
      "0             0       0\n",
      "1             5       5\n",
      "2             0       0\n",
      "3             5       5\n",
      "4             3       3\n",
      "5             0       0\n",
      "6             8       8\n",
      "7             7       7\n",
      "8             3       3\n",
      "9             8       8\n",
      "10            7       7\n",
      "11            3       3\n",
      "12            3       3\n",
      "13            8       8\n",
      "14            0       0\n",
      "15            3       3\n",
      "16            8       8\n",
      "17            1       1\n",
      "18            7       7\n",
      "19            6       6\n",
      "20            7       7\n",
      "21            6       6\n",
      "22            4       4\n",
      "23            8       8\n",
      "24            3       3\n",
      "25            8       8\n",
      "26            9       9\n",
      "27            5       5\n",
      "28            2       2\n",
      "29            5       5\n",
      "..          ...     ...\n",
      "330           7       7\n",
      "331           3       3\n",
      "332           1       1\n",
      "333           8       8\n",
      "334           9       9\n",
      "335           4       4\n",
      "336           2       2\n",
      "337           1       1\n",
      "338           4       4\n",
      "339           9       9\n",
      "340           5       5\n",
      "341           0       0\n",
      "342           1       6\n",
      "343           7       7\n",
      "344           1       1\n",
      "345           6       6\n",
      "346           6       6\n",
      "347           3       3\n",
      "348           1       1\n",
      "349           5       1\n",
      "350           3       3\n",
      "351           5       5\n",
      "352           9       9\n",
      "353           6       6\n",
      "354           4       4\n",
      "355           2       2\n",
      "356           2       2\n",
      "357           8       8\n",
      "358           9       9\n",
      "359           4       4\n",
      "\n",
      "[360 rows x 2 columns]\n"
     ]
    }
   ],
   "source": [
    "prediction_Poly=model_Poly.predict(test_x)\n",
    "\n",
    "results_Poly=pd.DataFrame({'Prediction':prediction_Poly,'Actual':test_y})\n",
    "print(results_Poly)"
   ]
  },
  {
   "cell_type": "code",
   "execution_count": null,
   "metadata": {},
   "outputs": [],
   "source": []
  },
  {
   "cell_type": "code",
   "execution_count": 45,
   "metadata": {},
   "outputs": [
    {
     "name": "stdout",
     "output_type": "stream",
     "text": [
      "[[39  0  0  0  0  0  0  0  0  0]\n",
      " [ 0 35  0  0  0  1  0  0  1  0]\n",
      " [ 0  0 30  0  0  0  0  1  0  0]\n",
      " [ 0  0  0 28  0  1  0  0  0  0]\n",
      " [ 0  0  0  0 40  0  0  0  0  0]\n",
      " [ 0  0  0  0  0 45  0  0  0  0]\n",
      " [ 0  1  0  0  0  0 31  0  0  0]\n",
      " [ 0  0  0  0  0  0  0 38  0  0]\n",
      " [ 0  0  0  0  0  0  0  0 37  0]\n",
      " [ 0  0  0  1  0  0  0  0  0 31]]\n"
     ]
    }
   ],
   "source": [
    "print(confusion_matrix(test_y,prediction_Poly))"
   ]
  },
  {
   "cell_type": "code",
   "execution_count": 46,
   "metadata": {},
   "outputs": [
    {
     "name": "stdout",
     "output_type": "stream",
     "text": [
      "0.947168646580022\n"
     ]
    }
   ],
   "source": [
    "print(r2_score(test_y, prediction_Poly))"
   ]
  },
  {
   "cell_type": "markdown",
   "metadata": {},
   "source": [
    "## Gaussian"
   ]
  },
  {
   "cell_type": "code",
   "execution_count": 19,
   "metadata": {},
   "outputs": [
    {
     "ename": "ValueError",
     "evalue": "'GNB' is not in list",
     "output_type": "error",
     "traceback": [
      "\u001b[1;31m---------------------------------------------------------------------------\u001b[0m",
      "\u001b[1;31mValueError\u001b[0m                                Traceback (most recent call last)",
      "\u001b[1;32m<ipython-input-19-951ba9eb2558>\u001b[0m in \u001b[0;36m<module>\u001b[1;34m()\u001b[0m\n\u001b[0;32m      1\u001b[0m \u001b[0mmodel_Gaussian\u001b[0m \u001b[1;33m=\u001b[0m \u001b[0mSVC\u001b[0m\u001b[1;33m(\u001b[0m\u001b[0mkernel\u001b[0m \u001b[1;33m=\u001b[0m \u001b[1;34m'GNB'\u001b[0m\u001b[1;33m,\u001b[0m \u001b[0mdegree\u001b[0m \u001b[1;33m=\u001b[0m \u001b[1;36m8\u001b[0m\u001b[1;33m)\u001b[0m\u001b[1;33m\u001b[0m\u001b[0m\n\u001b[1;32m----> 2\u001b[1;33m \u001b[0mmodel_Gaussian\u001b[0m\u001b[1;33m.\u001b[0m\u001b[0mfit\u001b[0m\u001b[1;33m(\u001b[0m\u001b[0mtrain_x\u001b[0m\u001b[1;33m,\u001b[0m \u001b[0mtrain_y\u001b[0m\u001b[1;33m)\u001b[0m\u001b[1;33m\u001b[0m\u001b[0m\n\u001b[0m",
      "\u001b[1;32mc:\\users\\hp-i5-amd\\appdata\\local\\programs\\python\\python36-32\\lib\\site-packages\\sklearn\\svm\\base.py\u001b[0m in \u001b[0;36mfit\u001b[1;34m(self, X, y, sample_weight)\u001b[0m\n\u001b[0;32m    185\u001b[0m \u001b[1;33m\u001b[0m\u001b[0m\n\u001b[0;32m    186\u001b[0m         \u001b[0mseed\u001b[0m \u001b[1;33m=\u001b[0m \u001b[0mrnd\u001b[0m\u001b[1;33m.\u001b[0m\u001b[0mrandint\u001b[0m\u001b[1;33m(\u001b[0m\u001b[0mnp\u001b[0m\u001b[1;33m.\u001b[0m\u001b[0miinfo\u001b[0m\u001b[1;33m(\u001b[0m\u001b[1;34m'i'\u001b[0m\u001b[1;33m)\u001b[0m\u001b[1;33m.\u001b[0m\u001b[0mmax\u001b[0m\u001b[1;33m)\u001b[0m\u001b[1;33m\u001b[0m\u001b[0m\n\u001b[1;32m--> 187\u001b[1;33m         \u001b[0mfit\u001b[0m\u001b[1;33m(\u001b[0m\u001b[0mX\u001b[0m\u001b[1;33m,\u001b[0m \u001b[0my\u001b[0m\u001b[1;33m,\u001b[0m \u001b[0msample_weight\u001b[0m\u001b[1;33m,\u001b[0m \u001b[0msolver_type\u001b[0m\u001b[1;33m,\u001b[0m \u001b[0mkernel\u001b[0m\u001b[1;33m,\u001b[0m \u001b[0mrandom_seed\u001b[0m\u001b[1;33m=\u001b[0m\u001b[0mseed\u001b[0m\u001b[1;33m)\u001b[0m\u001b[1;33m\u001b[0m\u001b[0m\n\u001b[0m\u001b[0;32m    188\u001b[0m         \u001b[1;31m# see comment on the other call to np.iinfo in this file\u001b[0m\u001b[1;33m\u001b[0m\u001b[1;33m\u001b[0m\u001b[0m\n\u001b[0;32m    189\u001b[0m \u001b[1;33m\u001b[0m\u001b[0m\n",
      "\u001b[1;32mc:\\users\\hp-i5-amd\\appdata\\local\\programs\\python\\python36-32\\lib\\site-packages\\sklearn\\svm\\base.py\u001b[0m in \u001b[0;36m_dense_fit\u001b[1;34m(self, X, y, sample_weight, solver_type, kernel, random_seed)\u001b[0m\n\u001b[0;32m    252\u001b[0m                 \u001b[0mcache_size\u001b[0m\u001b[1;33m=\u001b[0m\u001b[0mself\u001b[0m\u001b[1;33m.\u001b[0m\u001b[0mcache_size\u001b[0m\u001b[1;33m,\u001b[0m \u001b[0mcoef0\u001b[0m\u001b[1;33m=\u001b[0m\u001b[0mself\u001b[0m\u001b[1;33m.\u001b[0m\u001b[0mcoef0\u001b[0m\u001b[1;33m,\u001b[0m\u001b[1;33m\u001b[0m\u001b[0m\n\u001b[0;32m    253\u001b[0m                 \u001b[0mgamma\u001b[0m\u001b[1;33m=\u001b[0m\u001b[0mself\u001b[0m\u001b[1;33m.\u001b[0m\u001b[0m_gamma\u001b[0m\u001b[1;33m,\u001b[0m \u001b[0mepsilon\u001b[0m\u001b[1;33m=\u001b[0m\u001b[0mself\u001b[0m\u001b[1;33m.\u001b[0m\u001b[0mepsilon\u001b[0m\u001b[1;33m,\u001b[0m\u001b[1;33m\u001b[0m\u001b[0m\n\u001b[1;32m--> 254\u001b[1;33m                 max_iter=self.max_iter, random_seed=random_seed)\n\u001b[0m\u001b[0;32m    255\u001b[0m \u001b[1;33m\u001b[0m\u001b[0m\n\u001b[0;32m    256\u001b[0m         \u001b[0mself\u001b[0m\u001b[1;33m.\u001b[0m\u001b[0m_warn_from_fit_status\u001b[0m\u001b[1;33m(\u001b[0m\u001b[1;33m)\u001b[0m\u001b[1;33m\u001b[0m\u001b[0m\n",
      "\u001b[1;32msklearn\\svm\\libsvm.pyx\u001b[0m in \u001b[0;36msklearn.svm.libsvm.fit\u001b[1;34m()\u001b[0m\n",
      "\u001b[1;31mValueError\u001b[0m: 'GNB' is not in list"
     ]
    }
   ],
   "source": [
    "model_Gaussian = SVC(kernel = 'GNB', degree = 8)\n",
    "model_Gaussian.fit(train_x, train_y)"
   ]
  },
  {
   "cell_type": "code",
   "execution_count": null,
   "metadata": {},
   "outputs": [],
   "source": [
    "prediction_Gaussian=model_Gaussian.predict(test_x)\n",
    "\n",
    "results_Gaussian=pd.DataFrame({'Prediction':prediction_Gaussian,'Actual':test_y})\n",
    "print(results_Gaussian)"
   ]
  },
  {
   "cell_type": "code",
   "execution_count": null,
   "metadata": {},
   "outputs": [],
   "source": [
    "print(confusion_matrix(test_y,prediction_Gaussian))"
   ]
  },
  {
   "cell_type": "code",
   "execution_count": null,
   "metadata": {},
   "outputs": [],
   "source": [
    "print(r2_score(test_y, prediction_Gaussian))"
   ]
  },
  {
   "cell_type": "markdown",
   "metadata": {},
   "source": [
    "## Sigmoid"
   ]
  },
  {
   "cell_type": "code",
   "execution_count": 47,
   "metadata": {
    "scrolled": true
   },
   "outputs": [
    {
     "data": {
      "text/plain": [
       "SVC(C=1.0, cache_size=200, class_weight=None, coef0=0.0,\n",
       "  decision_function_shape='ovr', degree=8, gamma='auto', kernel='sigmoid',\n",
       "  max_iter=-1, probability=False, random_state=None, shrinking=True,\n",
       "  tol=0.001, verbose=False)"
      ]
     },
     "execution_count": 47,
     "metadata": {},
     "output_type": "execute_result"
    }
   ],
   "source": [
    "model_Sigmoid = SVC(kernel = 'sigmoid', degree = 8)\n",
    "model_Sigmoid.fit(train_x,train_y)"
   ]
  },
  {
   "cell_type": "code",
   "execution_count": 48,
   "metadata": {},
   "outputs": [
    {
     "name": "stdout",
     "output_type": "stream",
     "text": [
      "     Prediction  Actual\n",
      "0             3       0\n",
      "1             3       5\n",
      "2             3       0\n",
      "3             3       5\n",
      "4             3       3\n",
      "5             3       0\n",
      "6             3       8\n",
      "7             3       7\n",
      "8             3       3\n",
      "9             3       8\n",
      "10            3       7\n",
      "11            3       3\n",
      "12            3       3\n",
      "13            3       8\n",
      "14            3       0\n",
      "15            3       3\n",
      "16            3       8\n",
      "17            3       1\n",
      "18            3       7\n",
      "19            3       6\n",
      "20            3       7\n",
      "21            3       6\n",
      "22            3       4\n",
      "23            3       8\n",
      "24            3       3\n",
      "25            3       8\n",
      "26            3       9\n",
      "27            3       5\n",
      "28            3       2\n",
      "29            3       5\n",
      "..          ...     ...\n",
      "330           3       7\n",
      "331           3       3\n",
      "332           3       1\n",
      "333           3       8\n",
      "334           3       9\n",
      "335           3       4\n",
      "336           3       2\n",
      "337           3       1\n",
      "338           3       4\n",
      "339           3       9\n",
      "340           3       5\n",
      "341           3       0\n",
      "342           3       6\n",
      "343           3       7\n",
      "344           3       1\n",
      "345           3       6\n",
      "346           3       6\n",
      "347           3       3\n",
      "348           3       1\n",
      "349           3       1\n",
      "350           3       3\n",
      "351           3       5\n",
      "352           3       9\n",
      "353           3       6\n",
      "354           3       4\n",
      "355           3       2\n",
      "356           3       2\n",
      "357           3       8\n",
      "358           3       9\n",
      "359           3       4\n",
      "\n",
      "[360 rows x 2 columns]\n"
     ]
    }
   ],
   "source": [
    "prediction_Sigmoid=model_Sigmoid.predict(test_x)\n",
    "\n",
    "results_Sigmoid=pd.DataFrame({'Prediction':prediction_Sigmoid,'Actual':test_y})\n",
    "print(results_Sigmoid)"
   ]
  },
  {
   "cell_type": "code",
   "execution_count": 49,
   "metadata": {},
   "outputs": [
    {
     "name": "stdout",
     "output_type": "stream",
     "text": [
      "[[ 0  0  0 39  0  0  0  0  0  0]\n",
      " [ 0  0  0 37  0  0  0  0  0  0]\n",
      " [ 0  0  0 31  0  0  0  0  0  0]\n",
      " [ 0  0  0 29  0  0  0  0  0  0]\n",
      " [ 0  0  0 40  0  0  0  0  0  0]\n",
      " [ 0  0  0 45  0  0  0  0  0  0]\n",
      " [ 0  0  0 32  0  0  0  0  0  0]\n",
      " [ 0  0  0 38  0  0  0  0  0  0]\n",
      " [ 0  0  0 37  0  0  0  0  0  0]\n",
      " [ 0  0  0 32  0  0  0  0  0  0]]\n"
     ]
    }
   ],
   "source": [
    "print(confusion_matrix(test_y,prediction_Sigmoid))"
   ]
  },
  {
   "cell_type": "code",
   "execution_count": 50,
   "metadata": {},
   "outputs": [
    {
     "name": "stdout",
     "output_type": "stream",
     "text": [
      "-0.2689750244037301\n"
     ]
    }
   ],
   "source": [
    "print(r2_score(test_y, prediction_Sigmoid))"
   ]
  }
 ],
 "metadata": {
  "kernelspec": {
   "display_name": "Python 3",
   "language": "python",
   "name": "python3"
  },
  "language_info": {
   "codemirror_mode": {
    "name": "ipython",
    "version": 3
   },
   "file_extension": ".py",
   "mimetype": "text/x-python",
   "name": "python",
   "nbconvert_exporter": "python",
   "pygments_lexer": "ipython3",
   "version": "3.6.5"
  }
 },
 "nbformat": 4,
 "nbformat_minor": 2
}
