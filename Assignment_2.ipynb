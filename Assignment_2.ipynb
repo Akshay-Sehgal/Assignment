{
 "cells": [
  {
   "cell_type": "code",
   "execution_count": 24,
   "metadata": {},
   "outputs": [
    {
     "name": "stdout",
     "output_type": "stream",
     "text": [
      "[[60]\n",
      " [38]\n",
      " [25]\n",
      " [ 6]\n",
      " [96]\n",
      " [67]\n",
      " [80]\n",
      " [35]\n",
      " [79]\n",
      " [17]]\n",
      "Mean is 50.300000\n"
     ]
    }
   ],
   "source": [
    "#Question 1.\n",
    "#Create numpy array with 10 elements of the shape(10,1) using np.random and find out the mean of the elements using basic numpy functions.\n",
    "\n",
    "import numpy as np\n",
    "arr=np.random.randint(100,size=(10,1))\n",
    "print (arr)\n",
    "m=np.mean(arr)\n",
    "print('Mean is %f'%(m))\n"
   ]
  },
  {
   "cell_type": "code",
   "execution_count": 27,
   "metadata": {},
   "outputs": [
    {
     "name": "stdout",
     "output_type": "stream",
     "text": [
      "[[19]\n",
      " [30]\n",
      " [46]\n",
      " [35]\n",
      " [31]\n",
      " [43]\n",
      " [ 0]\n",
      " [33]\n",
      " [18]\n",
      " [42]\n",
      " [ 0]\n",
      " [43]\n",
      " [33]\n",
      " [13]\n",
      " [ 4]\n",
      " [ 5]\n",
      " [49]\n",
      " [34]\n",
      " [38]\n",
      " [20]]\n",
      "Variance is 238.660000\n",
      "Standard Deviation is 15.448625\n"
     ]
    }
   ],
   "source": [
    "#Question 2\n",
    "#Create numpy array with 20 elements of the shape(20,1) using np.random and find out the variance and standard deviation of the elements.\n",
    "import numpy as np\n",
    "arr=np.random.randint(50,size=(20,1))\n",
    "print(arr)\n",
    "v=np.var(arr)\n",
    "print('Variance is %f'%(v))\n",
    "sd=np.std(arr)\n",
    "print('Standard Deviation is %f'%(sd))\n",
    "\n",
    "\n"
   ]
  },
  {
   "cell_type": "code",
   "execution_count": 31,
   "metadata": {},
   "outputs": [
    {
     "name": "stdout",
     "output_type": "stream",
     "text": [
      "A\n",
      "[[9 0 1 4 1 9 4 4 2 5 1 6 3 5 5 1 0 1 5 0]\n",
      " [9 3 1 2 5 3 6 8 9 8 9 5 5 1 4 0 8 8 8 8]\n",
      " [3 0 2 7 3 7 2 8 9 3 6 9 9 6 5 9 5 2 2 1]\n",
      " [2 9 2 8 4 6 2 9 3 9 0 9 7 1 7 7 1 9 6 4]\n",
      " [3 7 8 7 0 9 9 5 6 0 6 0 5 1 0 8 0 0 8 9]\n",
      " [1 0 0 8 3 9 2 2 2 8 4 1 9 8 3 3 3 8 2 6]\n",
      " [7 2 4 4 8 6 3 0 4 2 3 7 9 5 4 4 4 1 7 3]\n",
      " [3 4 5 8 9 7 1 4 3 7 6 7 6 3 4 8 9 4 9 7]\n",
      " [1 4 0 0 8 4 1 4 7 1 3 0 9 8 2 6 3 8 5 5]\n",
      " [5 6 2 5 4 6 4 2 2 2 3 1 8 2 5 4 6 1 1 3]]\n",
      "\n",
      "B\n",
      "[[7 2 8 1 2 9 7 8 8 4 9 0 0 1 0 9 9 5 0 9 1 2 3 2 1]\n",
      " [9 3 2 3 8 1 5 3 0 0 6 2 7 2 7 5 9 1 0 7 7 8 4 5 1]\n",
      " [8 2 6 0 2 0 7 6 8 4 8 9 5 7 5 6 4 2 2 4 7 8 6 6 2]\n",
      " [7 5 5 8 9 6 7 5 9 9 0 0 9 9 0 0 0 6 8 4 6 0 0 4 6]\n",
      " [3 4 3 5 8 0 5 3 7 5 5 0 9 8 3 2 1 0 0 6 7 5 5 5 9]\n",
      " [0 4 6 6 2 7 9 3 0 4 5 5 6 3 5 6 0 4 7 2 1 2 5 5 0]\n",
      " [2 2 0 6 1 0 7 8 9 5 3 8 6 7 7 6 5 5 1 9 1 6 8 2 0]\n",
      " [0 4 4 9 9 7 5 5 3 9 3 3 5 7 8 3 2 8 7 7 4 5 2 7 4]\n",
      " [0 2 9 7 6 5 9 2 5 6 1 0 1 6 7 1 2 5 2 5 3 6 3 4 6]\n",
      " [2 9 9 9 7 1 5 4 6 9 1 1 5 2 4 1 6 3 8 4 0 5 0 7 6]\n",
      " [2 6 3 1 8 1 7 2 1 5 0 3 0 7 4 5 5 4 7 4 6 3 8 9 5]\n",
      " [4 7 4 4 4 5 3 2 8 9 5 1 2 4 0 5 0 1 2 8 3 5 2 7 8]\n",
      " [5 1 7 2 6 4 6 3 9 4 0 5 3 9 9 7 1 3 6 8 3 1 2 3 4]\n",
      " [7 3 5 5 4 8 7 5 0 3 7 7 1 7 8 0 3 2 1 7 0 7 3 2 8]\n",
      " [7 6 7 6 3 5 1 2 2 0 8 2 9 5 9 4 7 2 4 7 5 8 3 9 8]\n",
      " [4 0 1 3 9 5 9 2 3 5 5 9 6 7 4 4 7 5 9 6 5 4 9 7 6]\n",
      " [9 0 5 7 3 9 4 4 3 8 7 9 0 1 6 8 6 1 3 3 1 4 0 0 1]\n",
      " [7 5 6 1 4 9 3 3 2 0 3 7 7 2 6 4 6 1 7 6 6 8 1 4 5]\n",
      " [3 4 8 4 3 0 0 2 3 5 9 5 6 7 5 7 1 9 1 9 4 3 7 4 2]\n",
      " [0 5 2 9 7 5 8 1 4 2 8 8 3 2 9 5 2 5 9 5 6 0 5 4 5]]\n",
      "\n",
      "A x B\n",
      "[[257 274 389 329 282 333 370 277 317 346 328 213 289 327 298 305 224 274\n",
      "  256 422 171 268 230 315 268]\n",
      " [405 438 595 556 570 492 593 395 502 556 486 414 422 508 590 520 430 431\n",
      "  463 672 392 467 387 512 454]\n",
      " [376 345 508 491 554 495 597 333 454 551 374 378 397 569 502 396 301 374\n",
      "  470 575 339 404 349 497 484]\n",
      " [446 446 539 538 611 465 543 347 471 515 446 380 578 528 546 426 381 384\n",
      "  513 646 429 481 337 559 491]\n",
      " [315 285 397 433 490 323 607 337 412 420 417 452 430 521 509 437 309 429\n",
      "  425 536 383 345 464 434 291]\n",
      " [327 338 443 434 451 420 496 281 346 389 302 363 385 430 460 309 253 289\n",
      "  463 447 274 309 253 374 391]\n",
      " [383 299 463 379 423 367 490 312 446 423 432 338 374 480 422 418 278 301\n",
      "  308 547 312 347 343 391 390]\n",
      " [483 434 571 567 637 479 629 372 515 596 536 481 534 593 559 506 383 410\n",
      "  524 647 456 455 429 558 518]\n",
      " [314 251 397 362 453 372 461 242 292 316 348 365 352 438 499 321 271 270\n",
      "  339 486 313 360 310 349 386]\n",
      " [343 228 349 342 380 328 432 271 333 326 326 300 334 369 395 351 292 243\n",
      "  306 424 267 289 265 321 276]]\n",
      "Sum of all the elements is  101894\n"
     ]
    }
   ],
   "source": [
    "#Question 3.\n",
    "#Create numpy array A of shape(10,20) and B of the shape(20,25) using np.random. Print the matrix which is the matrix multiplication of A and B. The shape of the new matrix should be (10,25).Using basic numpy math fucntions only find the sum of all the elements of the new matrix.\n",
    "\n",
    "import numpy as np\n",
    "A=np.random.randint(10,size=(10,20))\n",
    "print('A')\n",
    "print (A)\n",
    "B=np.random.randint(10,size=(20,25))\n",
    "print('\\nB')\n",
    "print (B)\n",
    "C =A@B\n",
    "print('\\nA x B')\n",
    "print (C)\n",
    "sum=np.sum(C)\n",
    "print ('Sum of all the elements is % d'%(sum))\n",
    "\n"
   ]
  },
  {
   "cell_type": "code",
   "execution_count": 38,
   "metadata": {},
   "outputs": [
    {
     "name": "stdout",
     "output_type": "stream",
     "text": [
      "A\n",
      "[[4]\n",
      " [8]\n",
      " [3]\n",
      " [8]\n",
      " [7]\n",
      " [0]\n",
      " [8]\n",
      " [1]\n",
      " [3]\n",
      " [9]]\n",
      "Function 1/(1+exp(-x))\n",
      "[[0.98201379]\n",
      " [0.99966465]\n",
      " [0.95257413]\n",
      " [0.99966465]\n",
      " [0.99908895]\n",
      " [0.5       ]\n",
      " [0.99966465]\n",
      " [0.73105858]\n",
      " [0.95257413]\n",
      " [0.99987661]]\n"
     ]
    }
   ],
   "source": [
    "#Question 4.\n",
    "#Create numpy array A of shape(10,1). Using basic operations of numpy array generate an array of shape (10,1) such that each element is following function applied on each element of A. f(x)= 1/(1+exp(-x)). Apply this function to each element of A and print the new array holding the value the function returns.\n",
    "\n",
    "import numpy as np\n",
    "A = np.random.randint(10,size=(10,1))\n",
    "print ('A')\n",
    "print(A)\n",
    "Fun=np.full((10,1),1/(1+np.exp(-A)))\n",
    "print('Function 1/(1+exp(-x))')\n",
    "print (Fun)\n"
   ]
  },
  {
   "cell_type": "code",
   "execution_count": null,
   "metadata": {},
   "outputs": [],
   "source": []
  }
 ],
 "metadata": {
  "kernelspec": {
   "display_name": "Python 3",
   "language": "python",
   "name": "python3"
  },
  "language_info": {
   "codemirror_mode": {
    "name": "ipython",
    "version": 3
   },
   "file_extension": ".py",
   "mimetype": "text/x-python",
   "name": "python",
   "nbconvert_exporter": "python",
   "pygments_lexer": "ipython3",
   "version": "3.6.5"
  }
 },
 "nbformat": 4,
 "nbformat_minor": 2
}
