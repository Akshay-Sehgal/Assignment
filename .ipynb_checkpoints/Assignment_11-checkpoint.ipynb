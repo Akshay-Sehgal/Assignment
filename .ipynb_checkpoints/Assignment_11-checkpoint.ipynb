{
 "cells": [
  {
   "cell_type": "code",
   "execution_count": 2,
   "metadata": {},
   "outputs": [],
   "source": [
    "import numpy as np \n",
    "import pandas as pd\n",
    "import matplotlib.pyplot as plt\n",
    "import seaborn as sb\n",
    "from sklearn.datasets import load_digits\n",
    "%matplotlib inline\n"
   ]
  },
  {
   "cell_type": "code",
   "execution_count": 4,
   "metadata": {
    "scrolled": false
   },
   "outputs": [
    {
     "name": "stdout",
     "output_type": "stream",
     "text": [
      "(1797, 64)\n",
      "(1797,)\n"
     ]
    }
   ],
   "source": [
    "ds=load_digits()\n",
    "ds.x=ds.data\n",
    "ds.y=ds.target\n",
    "\n",
    "print(ds.x.shape)\n",
    "print(ds.y.shape)"
   ]
  },
  {
   "cell_type": "code",
   "execution_count": 7,
   "metadata": {},
   "outputs": [
    {
     "data": {
      "image/png": "[encoded data removed]",
      "text/plain": [
       "<Figure size 1440x720 with 10 Axes>"
      ]
     },
     "metadata": {},
     "output_type": "display_data"
    }
   ],
   "source": [
    "plt.figure(figsize = (20, 10))\n",
    "for index, (image, label) in enumerate(zip(ds.x[0:10], ds.y[0:10])):\n",
    "    plt.subplot(1, 10, index+1)\n",
    "    plt.imshow(np.reshape(image, (8, 8)), cmap = plt.cm.gray)"
   ]
  },
  {
   "cell_type": "code",
   "execution_count": 29,
   "metadata": {},
   "outputs": [
    {
     "data": {
      "text/plain": [
       "KNeighborsClassifier(algorithm='auto', leaf_size=30, metric='minkowski',\n",
       "           metric_params=None, n_jobs=1, n_neighbors=5, p=2,\n",
       "           weights='uniform')"
      ]
     },
     "execution_count": 29,
     "metadata": {},
     "output_type": "execute_result"
    }
   ],
   "source": [
    "from sklearn.model_selection import  train_test_split as tts\n",
    "train_x, test_x, train_y, test_y = tts(ds.x, ds.y, test_size = 0.2)\n",
    "\n",
    "from sklearn.neighbors import KNeighborsClassifier\n",
    "model = KNeighborsClassifier()\n",
    "model.fit(train_x, train_y)"
   ]
  },
  {
   "cell_type": "code",
   "execution_count": 30,
   "metadata": {},
   "outputs": [],
   "source": [
    "predict=model.predict(test_x)"
   ]
  },
  {
   "cell_type": "code",
   "execution_count": 32,
   "metadata": {
    "scrolled": true
   },
   "outputs": [
    {
     "name": "stdout",
     "output_type": "stream",
     "text": [
      "     Predicted  Actual\n",
      "0            0       0\n",
      "1            7       7\n",
      "2            9       9\n",
      "3            3       3\n",
      "4            5       5\n",
      "5            0       0\n",
      "6            7       7\n",
      "7            5       5\n",
      "8            1       1\n",
      "9            1       1\n",
      "10           0       0\n",
      "11           1       1\n",
      "12           4       4\n",
      "13           2       2\n",
      "14           9       9\n",
      "15           6       6\n",
      "16           3       3\n",
      "17           8       8\n",
      "18           2       2\n",
      "19           0       0\n",
      "20           0       0\n",
      "21           9       9\n",
      "22           4       4\n",
      "23           7       7\n",
      "24           4       4\n",
      "25           5       5\n",
      "26           9       9\n",
      "27           9       9\n",
      "28           6       6\n",
      "29           9       9\n",
      "..         ...     ...\n",
      "330          2       2\n",
      "331          1       1\n",
      "332          0       0\n",
      "333          1       1\n",
      "334          1       1\n",
      "335          8       8\n",
      "336          7       7\n",
      "337          1       1\n",
      "338          3       3\n",
      "339          3       3\n",
      "340          6       6\n",
      "341          0       0\n",
      "342          6       6\n",
      "343          1       1\n",
      "344          6       6\n",
      "345          9       9\n",
      "346          4       4\n",
      "347          1       1\n",
      "348          9       9\n",
      "349          7       7\n",
      "350          6       6\n",
      "351          9       9\n",
      "352          0       0\n",
      "353          7       7\n",
      "354          7       7\n",
      "355          9       9\n",
      "356          3       3\n",
      "357          8       8\n",
      "358          3       3\n",
      "359          4       4\n",
      "\n",
      "[360 rows x 2 columns]\n"
     ]
    }
   ],
   "source": [
    "Comparison = pd.DataFrame({'Predicted': predict,'Actual':test_y})\n",
    "print(Comparison)\n",
    "\n"
   ]
  },
  {
   "cell_type": "code",
   "execution_count": 34,
   "metadata": {},
   "outputs": [
    {
     "name": "stdout",
     "output_type": "stream",
     "text": [
      "0.9726655158759145\n"
     ]
    }
   ],
   "source": [
    "from sklearn.metrics import r2_score\n",
    "print(r2_score(test_y, predict))"
   ]
  }
 ],
 "metadata": {
  "kernelspec": {
   "display_name": "Python 3",
   "language": "python",
   "name": "python3"
  },
  "language_info": {
   "codemirror_mode": {
    "name": "ipython",
    "version": 3
   },
   "file_extension": ".py",
   "mimetype": "text/x-python",
   "name": "python",
   "nbconvert_exporter": "python",
   "pygments_lexer": "ipython3",
   "version": "3.6.5"
  }
 },
 "nbformat": 4,
 "nbformat_minor": 2
}
