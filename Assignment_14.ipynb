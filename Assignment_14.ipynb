{
 "cells": [
  {
   "cell_type": "code",
   "execution_count": 1,
   "metadata": {},
   "outputs": [],
   "source": [
    "import numpy as np \n",
    "import pandas as pd\n",
    "import matplotlib.pyplot as plt\n",
    "import seaborn as sb\n",
    "%matplotlib inline"
   ]
  },
  {
   "cell_type": "code",
   "execution_count": 2,
   "metadata": {
    "scrolled": true
   },
   "outputs": [
    {
     "data": {
      "text/html": [
       "<div>\n",
       "<style scoped>\n",
       "    .dataframe tbody tr th:only-of-type {\n",
       "        vertical-align: middle;\n",
       "    }\n",
       "\n",
       "    .dataframe tbody tr th {\n",
       "        vertical-align: top;\n",
       "    }\n",
       "\n",
       "    .dataframe thead th {\n",
       "        text-align: right;\n",
       "    }\n",
       "</style>\n",
       "<table border=\"1\" class=\"dataframe\">\n",
       "  <thead>\n",
       "    <tr style=\"text-align: right;\">\n",
       "      <th></th>\n",
       "      <th>B</th>\n",
       "      <th>1</th>\n",
       "      <th>1.1</th>\n",
       "      <th>1.2</th>\n",
       "      <th>1.3</th>\n",
       "    </tr>\n",
       "  </thead>\n",
       "  <tbody>\n",
       "    <tr>\n",
       "      <th>0</th>\n",
       "      <td>R</td>\n",
       "      <td>1</td>\n",
       "      <td>1</td>\n",
       "      <td>1</td>\n",
       "      <td>2</td>\n",
       "    </tr>\n",
       "    <tr>\n",
       "      <th>1</th>\n",
       "      <td>R</td>\n",
       "      <td>1</td>\n",
       "      <td>1</td>\n",
       "      <td>1</td>\n",
       "      <td>3</td>\n",
       "    </tr>\n",
       "    <tr>\n",
       "      <th>2</th>\n",
       "      <td>R</td>\n",
       "      <td>1</td>\n",
       "      <td>1</td>\n",
       "      <td>1</td>\n",
       "      <td>4</td>\n",
       "    </tr>\n",
       "    <tr>\n",
       "      <th>3</th>\n",
       "      <td>R</td>\n",
       "      <td>1</td>\n",
       "      <td>1</td>\n",
       "      <td>1</td>\n",
       "      <td>5</td>\n",
       "    </tr>\n",
       "    <tr>\n",
       "      <th>4</th>\n",
       "      <td>R</td>\n",
       "      <td>1</td>\n",
       "      <td>1</td>\n",
       "      <td>2</td>\n",
       "      <td>1</td>\n",
       "    </tr>\n",
       "  </tbody>\n",
       "</table>\n",
       "</div>"
      ],
      "text/plain": [
       "   B  1  1.1  1.2  1.3\n",
       "0  R  1    1    1    2\n",
       "1  R  1    1    1    3\n",
       "2  R  1    1    1    4\n",
       "3  R  1    1    1    5\n",
       "4  R  1    1    2    1"
      ]
     },
     "execution_count": 2,
     "metadata": {},
     "output_type": "execute_result"
    }
   ],
   "source": [
    "data=pd.read_csv('https://archive.ics.uci.edu/ml/machine-learning-databases/balance-scale/balance-scale.data')\n",
    "data.head()"
   ]
  },
  {
   "cell_type": "code",
   "execution_count": 3,
   "metadata": {
    "scrolled": false
   },
   "outputs": [
    {
     "data": {
      "text/plain": [
       "(624, 5)"
      ]
     },
     "execution_count": 3,
     "metadata": {},
     "output_type": "execute_result"
    }
   ],
   "source": [
    "data.shape"
   ]
  },
  {
   "cell_type": "code",
   "execution_count": 4,
   "metadata": {},
   "outputs": [
    {
     "data": {
      "text/plain": [
       "Index(['B', '1', '1.1', '1.2', '1.3'], dtype='object')"
      ]
     },
     "execution_count": 4,
     "metadata": {},
     "output_type": "execute_result"
    }
   ],
   "source": [
    "data.columns"
   ]
  },
  {
   "cell_type": "code",
   "execution_count": 5,
   "metadata": {},
   "outputs": [],
   "source": [
    "y_target=data['B']"
   ]
  },
  {
   "cell_type": "code",
   "execution_count": 11,
   "metadata": {},
   "outputs": [],
   "source": [
    "x_features=data.loc[:,data.columns!='B']"
   ]
  },
  {
   "cell_type": "code",
   "execution_count": 12,
   "metadata": {
    "scrolled": true
   },
   "outputs": [
    {
     "data": {
      "text/html": [
       "<div>\n",
       "<style scoped>\n",
       "    .dataframe tbody tr th:only-of-type {\n",
       "        vertical-align: middle;\n",
       "    }\n",
       "\n",
       "    .dataframe tbody tr th {\n",
       "        vertical-align: top;\n",
       "    }\n",
       "\n",
       "    .dataframe thead th {\n",
       "        text-align: right;\n",
       "    }\n",
       "</style>\n",
       "<table border=\"1\" class=\"dataframe\">\n",
       "  <thead>\n",
       "    <tr style=\"text-align: right;\">\n",
       "      <th></th>\n",
       "      <th>1</th>\n",
       "      <th>1.1</th>\n",
       "      <th>1.2</th>\n",
       "      <th>1.3</th>\n",
       "    </tr>\n",
       "  </thead>\n",
       "  <tbody>\n",
       "    <tr>\n",
       "      <th>0</th>\n",
       "      <td>1</td>\n",
       "      <td>1</td>\n",
       "      <td>1</td>\n",
       "      <td>2</td>\n",
       "    </tr>\n",
       "    <tr>\n",
       "      <th>1</th>\n",
       "      <td>1</td>\n",
       "      <td>1</td>\n",
       "      <td>1</td>\n",
       "      <td>3</td>\n",
       "    </tr>\n",
       "    <tr>\n",
       "      <th>2</th>\n",
       "      <td>1</td>\n",
       "      <td>1</td>\n",
       "      <td>1</td>\n",
       "      <td>4</td>\n",
       "    </tr>\n",
       "    <tr>\n",
       "      <th>3</th>\n",
       "      <td>1</td>\n",
       "      <td>1</td>\n",
       "      <td>1</td>\n",
       "      <td>5</td>\n",
       "    </tr>\n",
       "    <tr>\n",
       "      <th>4</th>\n",
       "      <td>1</td>\n",
       "      <td>1</td>\n",
       "      <td>2</td>\n",
       "      <td>1</td>\n",
       "    </tr>\n",
       "  </tbody>\n",
       "</table>\n",
       "</div>"
      ],
      "text/plain": [
       "   1  1.1  1.2  1.3\n",
       "0  1    1    1    2\n",
       "1  1    1    1    3\n",
       "2  1    1    1    4\n",
       "3  1    1    1    5\n",
       "4  1    1    2    1"
      ]
     },
     "execution_count": 12,
     "metadata": {},
     "output_type": "execute_result"
    }
   ],
   "source": [
    "x_features.head()"
   ]
  },
  {
   "cell_type": "code",
   "execution_count": 8,
   "metadata": {},
   "outputs": [
    {
     "data": {
      "text/plain": [
       "0    R\n",
       "1    R\n",
       "2    R\n",
       "3    R\n",
       "4    R\n",
       "Name: B, dtype: object"
      ]
     },
     "execution_count": 8,
     "metadata": {},
     "output_type": "execute_result"
    }
   ],
   "source": [
    "y_target.head()"
   ]
  },
  {
   "cell_type": "code",
   "execution_count": 43,
   "metadata": {},
   "outputs": [],
   "source": [
    "from sklearn.model_selection import train_test_split as tts\n",
    "train_fit,train_check,test_fit,test_check = tts(x_features,y_target, test_size = 0.2)"
   ]
  },
  {
   "cell_type": "code",
   "execution_count": 44,
   "metadata": {},
   "outputs": [],
   "source": [
    "from sklearn.metrics import accuracy_score"
   ]
  },
  {
   "cell_type": "markdown",
   "metadata": {},
   "source": [
    "## Decision Tree"
   ]
  },
  {
   "cell_type": "markdown",
   "metadata": {},
   "source": [
    "#### Gini"
   ]
  },
  {
   "cell_type": "code",
   "execution_count": 45,
   "metadata": {
    "scrolled": true
   },
   "outputs": [
    {
     "data": {
      "text/plain": [
       "DecisionTreeClassifier(class_weight=None, criterion='gini', max_depth=None,\n",
       "            max_features=None, max_leaf_nodes=None,\n",
       "            min_impurity_decrease=0.0, min_impurity_split=None,\n",
       "            min_samples_leaf=1, min_samples_split=2,\n",
       "            min_weight_fraction_leaf=0.0, presort=False, random_state=None,\n",
       "            splitter='best')"
      ]
     },
     "execution_count": 45,
     "metadata": {},
     "output_type": "execute_result"
    }
   ],
   "source": [
    "from sklearn.tree import DecisionTreeClassifier\n",
    "model_D_gini = DecisionTreeClassifier()\n",
    "model_D_gini.fit(train_fit, test_fit)"
   ]
  },
  {
   "cell_type": "code",
   "execution_count": 46,
   "metadata": {
    "scrolled": true
   },
   "outputs": [
    {
     "name": "stdout",
     "output_type": "stream",
     "text": [
      "    Actual Predicted\n",
      "469      L         L\n",
      "395      R         R\n",
      "162      R         R\n",
      "440      L         L\n",
      "442      R         R\n",
      "349      L         L\n",
      "438      R         B\n",
      "112      R         R\n",
      "261      R         R\n",
      "20       R         R\n",
      "206      L         R\n",
      "132      R         R\n",
      "445      L         L\n",
      "550      L         L\n",
      "140      R         R\n",
      "200      L         L\n",
      "508      R         R\n",
      "525      L         L\n",
      "511      R         L\n",
      "531      L         L\n",
      "459      L         L\n",
      "19       R         R\n",
      "275      L         L\n",
      "127      R         R\n",
      "188      R         R\n",
      "517      R         R\n",
      "180      L         B\n",
      "207      B         R\n",
      "238      R         R\n",
      "59       B         L\n",
      "..     ...       ...\n",
      "589      L         L\n",
      "286      R         R\n",
      "533      B         L\n",
      "123      R         R\n",
      "566      L         B\n",
      "498      R         R\n",
      "217      R         R\n",
      "342      R         R\n",
      "427      L         L\n",
      "181      B         R\n",
      "495      L         L\n",
      "306      L         L\n",
      "1        R         R\n",
      "408      R         B\n",
      "301      L         L\n",
      "389      B         R\n",
      "493      B         R\n",
      "386      R         R\n",
      "479      L         L\n",
      "600      L         L\n",
      "595      L         L\n",
      "578      L         L\n",
      "24       L         B\n",
      "80       B         L\n",
      "455      L         L\n",
      "126      R         B\n",
      "456      L         L\n",
      "505      L         B\n",
      "526      L         L\n",
      "586      L         L\n",
      "\n",
      "[125 rows x 2 columns]\n"
     ]
    }
   ],
   "source": [
    "prediction_D_gini=model_D_gini.predict(train_check)\n",
    "result_D_gini = pd.DataFrame({'Actual': test_check, 'Predicted':prediction_D_gini})\n",
    "print(result_D_gini)"
   ]
  },
  {
   "cell_type": "code",
   "execution_count": 47,
   "metadata": {
    "scrolled": true
   },
   "outputs": [
    {
     "name": "stdout",
     "output_type": "stream",
     "text": [
      "0.784\n"
     ]
    }
   ],
   "source": [
    "print(accuracy_score(test_check, prediction_D_gini))"
   ]
  },
  {
   "cell_type": "markdown",
   "metadata": {},
   "source": [
    "#### Entropy"
   ]
  },
  {
   "cell_type": "code",
   "execution_count": 48,
   "metadata": {
    "scrolled": true
   },
   "outputs": [
    {
     "data": {
      "text/plain": [
       "DecisionTreeClassifier(class_weight=None, criterion='entropy', max_depth=None,\n",
       "            max_features=None, max_leaf_nodes=None,\n",
       "            min_impurity_decrease=0.0, min_impurity_split=None,\n",
       "            min_samples_leaf=1, min_samples_split=2,\n",
       "            min_weight_fraction_leaf=0.0, presort=False, random_state=None,\n",
       "            splitter='best')"
      ]
     },
     "execution_count": 48,
     "metadata": {},
     "output_type": "execute_result"
    }
   ],
   "source": [
    "model_D_entropy = DecisionTreeClassifier(criterion='entropy')\n",
    "model_D_entropy.fit(train_fit, test_fit)"
   ]
  },
  {
   "cell_type": "code",
   "execution_count": 49,
   "metadata": {
    "scrolled": true
   },
   "outputs": [
    {
     "name": "stdout",
     "output_type": "stream",
     "text": [
      "    Actual Predicted\n",
      "469      L         L\n",
      "395      R         R\n",
      "162      R         R\n",
      "440      L         L\n",
      "442      R         R\n",
      "349      L         L\n",
      "438      R         B\n",
      "112      R         R\n",
      "261      R         R\n",
      "20       R         R\n",
      "206      L         R\n",
      "132      R         R\n",
      "445      L         R\n",
      "550      L         L\n",
      "140      R         R\n",
      "200      L         L\n",
      "508      R         R\n",
      "525      L         L\n",
      "511      R         L\n",
      "531      L         L\n",
      "459      L         L\n",
      "19       R         R\n",
      "275      L         L\n",
      "127      R         B\n",
      "188      R         R\n",
      "517      R         R\n",
      "180      L         B\n",
      "207      B         R\n",
      "238      R         R\n",
      "59       B         L\n",
      "..     ...       ...\n",
      "589      L         L\n",
      "286      R         R\n",
      "533      B         L\n",
      "123      R         R\n",
      "566      L         B\n",
      "498      R         R\n",
      "217      R         R\n",
      "342      R         B\n",
      "427      L         L\n",
      "181      B         R\n",
      "495      L         L\n",
      "306      L         L\n",
      "1        R         R\n",
      "408      R         B\n",
      "301      L         L\n",
      "389      B         R\n",
      "493      B         R\n",
      "386      R         R\n",
      "479      L         L\n",
      "600      L         L\n",
      "595      L         L\n",
      "578      L         L\n",
      "24       L         B\n",
      "80       B         L\n",
      "455      L         L\n",
      "126      R         L\n",
      "456      L         L\n",
      "505      L         B\n",
      "526      L         L\n",
      "586      L         L\n",
      "\n",
      "[125 rows x 2 columns]\n"
     ]
    }
   ],
   "source": [
    "prediction_D_entropy=model_D_entropy.predict(train_check)\n",
    "result_D_entropy = pd.DataFrame({'Actual': test_check, 'Predicted':prediction_D_entropy})\n",
    "print(result_D_entropy)"
   ]
  },
  {
   "cell_type": "code",
   "execution_count": 50,
   "metadata": {},
   "outputs": [
    {
     "name": "stdout",
     "output_type": "stream",
     "text": [
      "0.72\n"
     ]
    }
   ],
   "source": [
    "print(accuracy_score(test_check, prediction_D_entropy))"
   ]
  },
  {
   "cell_type": "markdown",
   "metadata": {},
   "source": [
    "## Random Forest"
   ]
  },
  {
   "cell_type": "markdown",
   "metadata": {},
   "source": [
    "#### Gini"
   ]
  },
  {
   "cell_type": "code",
   "execution_count": 51,
   "metadata": {},
   "outputs": [
    {
     "data": {
      "text/plain": [
       "RandomForestClassifier(bootstrap=True, class_weight=None, criterion='gini',\n",
       "            max_depth=None, max_features='auto', max_leaf_nodes=None,\n",
       "            min_impurity_decrease=0.0, min_impurity_split=None,\n",
       "            min_samples_leaf=1, min_samples_split=2,\n",
       "            min_weight_fraction_leaf=0.0, n_estimators=10, n_jobs=2,\n",
       "            oob_score=False, random_state=None, verbose=0,\n",
       "            warm_start=False)"
      ]
     },
     "execution_count": 51,
     "metadata": {},
     "output_type": "execute_result"
    }
   ],
   "source": [
    "from sklearn.ensemble import RandomForestClassifier\n",
    "model_RF_gini = RandomForestClassifier(n_jobs = 2)\n",
    "model_RF_gini.fit(train_fit, test_fit)"
   ]
  },
  {
   "cell_type": "code",
   "execution_count": 52,
   "metadata": {},
   "outputs": [
    {
     "name": "stdout",
     "output_type": "stream",
     "text": [
      "    Actual Predicted\n",
      "469      L         L\n",
      "395      R         R\n",
      "162      R         R\n",
      "440      L         L\n",
      "442      R         R\n",
      "349      L         L\n",
      "438      R         B\n",
      "112      R         R\n",
      "261      R         R\n",
      "20       R         R\n",
      "206      L         L\n",
      "132      R         R\n",
      "445      L         L\n",
      "550      L         L\n",
      "140      R         R\n",
      "200      L         L\n",
      "508      R         R\n",
      "525      L         L\n",
      "511      R         R\n",
      "531      L         L\n",
      "459      L         L\n",
      "19       R         R\n",
      "275      L         L\n",
      "127      R         R\n",
      "188      R         R\n",
      "517      R         R\n",
      "180      L         L\n",
      "207      B         L\n",
      "238      R         R\n",
      "59       B         L\n",
      "..     ...       ...\n",
      "589      L         L\n",
      "286      R         R\n",
      "533      B         L\n",
      "123      R         R\n",
      "566      L         B\n",
      "498      R         B\n",
      "217      R         R\n",
      "342      R         R\n",
      "427      L         L\n",
      "181      B         L\n",
      "495      L         L\n",
      "306      L         L\n",
      "1        R         R\n",
      "408      R         R\n",
      "301      L         L\n",
      "389      B         L\n",
      "493      B         B\n",
      "386      R         R\n",
      "479      L         L\n",
      "600      L         L\n",
      "595      L         L\n",
      "578      L         L\n",
      "24       L         B\n",
      "80       B         L\n",
      "455      L         L\n",
      "126      R         B\n",
      "456      L         L\n",
      "505      L         L\n",
      "526      L         L\n",
      "586      L         L\n",
      "\n",
      "[125 rows x 2 columns]\n"
     ]
    }
   ],
   "source": [
    "prediction_RF_gini=model_RF_gini.predict(train_check)\n",
    "result_RF_gini = pd.DataFrame({'Actual': test_check, 'Predicted':prediction_RF_gini})\n",
    "print(result_RF_gini)"
   ]
  },
  {
   "cell_type": "code",
   "execution_count": 53,
   "metadata": {},
   "outputs": [
    {
     "name": "stdout",
     "output_type": "stream",
     "text": [
      "0.832\n"
     ]
    }
   ],
   "source": [
    "print(accuracy_score(test_check, prediction_RF_gini))"
   ]
  },
  {
   "cell_type": "markdown",
   "metadata": {},
   "source": [
    "#### Entropy"
   ]
  },
  {
   "cell_type": "code",
   "execution_count": 54,
   "metadata": {},
   "outputs": [
    {
     "data": {
      "text/plain": [
       "RandomForestClassifier(bootstrap=True, class_weight=None, criterion='entropy',\n",
       "            max_depth=None, max_features='auto', max_leaf_nodes=None,\n",
       "            min_impurity_decrease=0.0, min_impurity_split=None,\n",
       "            min_samples_leaf=1, min_samples_split=2,\n",
       "            min_weight_fraction_leaf=0.0, n_estimators=10, n_jobs=2,\n",
       "            oob_score=False, random_state=None, verbose=0,\n",
       "            warm_start=False)"
      ]
     },
     "execution_count": 54,
     "metadata": {},
     "output_type": "execute_result"
    }
   ],
   "source": [
    "model_RF_entropy = RandomForestClassifier(criterion='entropy',n_jobs = 2)\n",
    "model_RF_entropy.fit(train_fit, test_fit)"
   ]
  },
  {
   "cell_type": "code",
   "execution_count": 55,
   "metadata": {},
   "outputs": [
    {
     "name": "stdout",
     "output_type": "stream",
     "text": [
      "    Actual Predicted\n",
      "469      L         L\n",
      "395      R         R\n",
      "162      R         R\n",
      "440      L         L\n",
      "442      R         R\n",
      "349      L         L\n",
      "438      R         B\n",
      "112      R         R\n",
      "261      R         R\n",
      "20       R         R\n",
      "206      L         L\n",
      "132      R         R\n",
      "445      L         L\n",
      "550      L         L\n",
      "140      R         R\n",
      "200      L         L\n",
      "508      R         R\n",
      "525      L         L\n",
      "511      R         R\n",
      "531      L         L\n",
      "459      L         L\n",
      "19       R         R\n",
      "275      L         L\n",
      "127      R         R\n",
      "188      R         R\n",
      "517      R         R\n",
      "180      L         B\n",
      "207      B         R\n",
      "238      R         R\n",
      "59       B         R\n",
      "..     ...       ...\n",
      "589      L         L\n",
      "286      R         R\n",
      "533      B         L\n",
      "123      R         R\n",
      "566      L         B\n",
      "498      R         R\n",
      "217      R         R\n",
      "342      R         B\n",
      "427      L         L\n",
      "181      B         R\n",
      "495      L         L\n",
      "306      L         L\n",
      "1        R         R\n",
      "408      R         R\n",
      "301      L         L\n",
      "389      B         L\n",
      "493      B         R\n",
      "386      R         R\n",
      "479      L         L\n",
      "600      L         L\n",
      "595      L         L\n",
      "578      L         L\n",
      "24       L         B\n",
      "80       B         L\n",
      "455      L         L\n",
      "126      R         B\n",
      "456      L         L\n",
      "505      L         L\n",
      "526      L         L\n",
      "586      L         L\n",
      "\n",
      "[125 rows x 2 columns]\n"
     ]
    }
   ],
   "source": [
    "prediction_RF_entropy=model_RF_entropy.predict(train_check)\n",
    "result_RF_entropy = pd.DataFrame({'Actual': test_check, 'Predicted':prediction_RF_entropy})\n",
    "print(result_RF_entropy)"
   ]
  },
  {
   "cell_type": "code",
   "execution_count": 56,
   "metadata": {},
   "outputs": [
    {
     "name": "stdout",
     "output_type": "stream",
     "text": [
      "0.784\n"
     ]
    }
   ],
   "source": [
    "print(accuracy_score(test_check, prediction_RF_entropy))"
   ]
  }
 ],
 "metadata": {
  "kernelspec": {
   "display_name": "Python 3",
   "language": "python",
   "name": "python3"
  },
  "language_info": {
   "codemirror_mode": {
    "name": "ipython",
    "version": 3
   },
   "file_extension": ".py",
   "mimetype": "text/x-python",
   "name": "python",
   "nbconvert_exporter": "python",
   "pygments_lexer": "ipython3",
   "version": "3.6.5"
  }
 },
 "nbformat": 4,
 "nbformat_minor": 2
}
