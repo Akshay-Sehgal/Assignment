{
 "cells": [
  {
   "cell_type": "code",
   "execution_count": null,
   "metadata": {},
   "outputs": [],
   "source": [
    "from fractions import Fraction"
   ]
  },
  {
   "cell_type": "code",
   "execution_count": 19,
   "metadata": {},
   "outputs": [
    {
     "name": "stdout",
     "output_type": "stream",
     "text": [
      "P(B|A) =  3/100\n"
     ]
    }
   ],
   "source": [
    "#Question 1. \n",
    "def Cprob(A,B,AB):\n",
    "    BA=\"%.3f\"%((AB*B)/A)\n",
    "    print (\"P(B|A) = \",Fraction(BA))\n",
    "    \n",
    "Cprob(11/36,6/36,2/36)    "
   ]
  },
  {
   "cell_type": "code",
   "execution_count": 25,
   "metadata": {},
   "outputs": [
    {
     "name": "stdout",
     "output_type": "stream",
     "text": [
      "Probability of Black Ball From Bag 1 =  583/1000\n"
     ]
    }
   ],
   "source": [
    "#Question 2.\n",
    "black_bag_1=(6/10)*(1/2)\n",
    "black_bag_2=(3/7)*(1/2)\n",
    "p=\"%.3f\"%(black_bag_1/(black_bag_1+black_bag_2))\n",
    "print(\"Probability of Black Ball From Bag 1 = \",Fraction(p))\n"
   ]
  },
  {
   "cell_type": "code",
   "execution_count": 26,
   "metadata": {},
   "outputs": [
    {
     "name": "stdout",
     "output_type": "stream",
     "text": [
      "Probability of Truth=  143/500\n"
     ]
    }
   ],
   "source": [
    "#Question 3.\n",
    "p_truth_4=(2/3)*(1/6)\n",
    "p_lie_4=(1/3)*(5/6)\n",
    "\n",
    "p=\"%.3f\"%(p_truth_4/(p_truth_4+p_lie_4))\n",
    "print(\"Probability of Truth= \",Fraction(p))\n"
   ]
  },
  {
   "cell_type": "code",
   "execution_count": null,
   "metadata": {},
   "outputs": [],
   "source": []
  },
  {
   "cell_type": "code",
   "execution_count": null,
   "metadata": {},
   "outputs": [],
   "source": []
  },
  {
   "cell_type": "code",
   "execution_count": null,
   "metadata": {},
   "outputs": [],
   "source": []
  },
  {
   "cell_type": "code",
   "execution_count": null,
   "metadata": {},
   "outputs": [],
   "source": []
  }
 ],
 "metadata": {
  "kernelspec": {
   "display_name": "Python 3",
   "language": "python",
   "name": "python3"
  },
  "language_info": {
   "codemirror_mode": {
    "name": "ipython",
    "version": 3
   },
   "file_extension": ".py",
   "mimetype": "text/x-python",
   "name": "python",
   "nbconvert_exporter": "python",
   "pygments_lexer": "ipython3",
   "version": "3.6.5"
  }
 },
 "nbformat": 4,
 "nbformat_minor": 2
}
